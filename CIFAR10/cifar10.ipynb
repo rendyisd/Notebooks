{
 "cells": [
  {
   "cell_type": "markdown",
   "id": "31269089",
   "metadata": {},
   "source": [
    "#### Reference: Codebasics (Youtube) - Image Classification Using CNN (CIFAR10) Deep Learning Tutorial 24"
   ]
  },
  {
   "cell_type": "code",
   "execution_count": 1,
   "id": "3bb0668c",
   "metadata": {},
   "outputs": [],
   "source": [
    "import numpy as np\n",
    "import matplotlib.pyplot as plt\n",
    "import tensorflow as tf"
   ]
  },
  {
   "cell_type": "code",
   "execution_count": 2,
   "id": "d7a75619",
   "metadata": {},
   "outputs": [],
   "source": [
    "(X_train, y_train), (X_test, y_test) = tf.keras.datasets.cifar10.load_data()"
   ]
  },
  {
   "cell_type": "code",
   "execution_count": 3,
   "id": "c2481605",
   "metadata": {},
   "outputs": [
    {
     "data": {
      "text/plain": [
       "(50000, 32, 32, 3)"
      ]
     },
     "execution_count": 3,
     "metadata": {},
     "output_type": "execute_result"
    }
   ],
   "source": [
    "X_train.shape"
   ]
  },
  {
   "cell_type": "code",
   "execution_count": 4,
   "id": "f614cdcd",
   "metadata": {
    "scrolled": true
   },
   "outputs": [
    {
     "data": {
      "text/plain": [
       "array([[[154, 177, 187],\n",
       "        [126, 137, 136],\n",
       "        [105, 104,  95],\n",
       "        ...,\n",
       "        [ 91,  95,  71],\n",
       "        [ 87,  90,  71],\n",
       "        [ 79,  81,  70]],\n",
       "\n",
       "       [[140, 160, 169],\n",
       "        [145, 153, 154],\n",
       "        [125, 125, 118],\n",
       "        ...,\n",
       "        [ 96,  99,  78],\n",
       "        [ 77,  80,  62],\n",
       "        [ 71,  73,  61]],\n",
       "\n",
       "       [[140, 155, 164],\n",
       "        [139, 146, 149],\n",
       "        [115, 115, 112],\n",
       "        ...,\n",
       "        [ 79,  82,  64],\n",
       "        [ 68,  70,  55],\n",
       "        [ 67,  69,  55]],\n",
       "\n",
       "       ...,\n",
       "\n",
       "       [[175, 167, 166],\n",
       "        [156, 154, 160],\n",
       "        [154, 160, 170],\n",
       "        ...,\n",
       "        [ 42,  34,  36],\n",
       "        [ 61,  53,  57],\n",
       "        [ 93,  83,  91]],\n",
       "\n",
       "       [[165, 154, 128],\n",
       "        [156, 152, 130],\n",
       "        [159, 161, 142],\n",
       "        ...,\n",
       "        [103,  93,  96],\n",
       "        [123, 114, 120],\n",
       "        [131, 121, 131]],\n",
       "\n",
       "       [[163, 148, 120],\n",
       "        [158, 148, 122],\n",
       "        [163, 156, 133],\n",
       "        ...,\n",
       "        [143, 133, 139],\n",
       "        [143, 134, 142],\n",
       "        [143, 133, 144]]], dtype=uint8)"
      ]
     },
     "execution_count": 4,
     "metadata": {},
     "output_type": "execute_result"
    }
   ],
   "source": [
    "X_train[1]"
   ]
  },
  {
   "cell_type": "code",
   "execution_count": 5,
   "id": "699d8e7a",
   "metadata": {},
   "outputs": [],
   "source": [
    "'''\n",
    "-1 means it will automatically calculate how many element will be in that dimension relative to how many elements\n",
    "inside the array\n",
    "'''\n",
    "y_train = y_train.reshape(-1,)"
   ]
  },
  {
   "cell_type": "code",
   "execution_count": 6,
   "id": "e10cd0ef",
   "metadata": {
    "scrolled": true
   },
   "outputs": [],
   "source": [
    "classes = ['Airplane', 'Automobile', 'Bird', 'Cat', 'Deer', 'Dog', 'Frog', 'Horse', 'Ship', 'Truck']\n",
    "\n",
    "def load_sample(X, y, idx, y_true=None):\n",
    "    plt.figure(figsize=(15,2))\n",
    "    plt.imshow(X[idx])\n",
    "    if y_true is not None:\n",
    "        plt.xlabel(\"Pred: \"+str(classes[y[idx]])+\"  |  Truth: \"+str(classes[y_true[idx]]))\n",
    "    else:\n",
    "        plt.xlabel(classes[y[idx]])"
   ]
  },
  {
   "cell_type": "code",
   "execution_count": 7,
   "id": "b42856c6",
   "metadata": {
    "scrolled": true
   },
   "outputs": [
    {
     "data": {
      "image/png": "[encoded data removed]",
      "text/plain": [
       "<Figure size 1080x144 with 1 Axes>"
      ]
     },
     "metadata": {
      "needs_background": "light"
     },
     "output_type": "display_data"
    }
   ],
   "source": [
    "load_sample(X_train, y_train, 0)"
   ]
  },
  {
   "cell_type": "code",
   "execution_count": 8,
   "id": "f1a15518",
   "metadata": {},
   "outputs": [],
   "source": [
    "# Scale the RGB value to 0-1\n",
    "X_train = X_train / 255\n",
    "X_test = X_test / 255"
   ]
  },
  {
   "cell_type": "markdown",
   "id": "2a665a8b",
   "metadata": {},
   "source": [
    "### Initial model without Convolutional NN for features extraction"
   ]
  },
  {
   "cell_type": "code",
   "execution_count": 9,
   "id": "a50b2f4b",
   "metadata": {
    "scrolled": false
   },
   "outputs": [
    {
     "name": "stdout",
     "output_type": "stream",
     "text": [
      "Epoch 1/8\n",
      "1563/1563 [==============================] - 8s 5ms/step - loss: 1.8701 - accuracy: 0.3296\n",
      "Epoch 2/8\n",
      "1563/1563 [==============================] - 7s 5ms/step - loss: 1.6820 - accuracy: 0.3989\n",
      "Epoch 3/8\n",
      "1563/1563 [==============================] - 7s 5ms/step - loss: 1.6060 - accuracy: 0.4248\n",
      "Epoch 4/8\n",
      "1563/1563 [==============================] - 7s 5ms/step - loss: 1.5518 - accuracy: 0.4455\n",
      "Epoch 5/8\n",
      "1563/1563 [==============================] - 8s 5ms/step - loss: 1.5172 - accuracy: 0.4582\n",
      "Epoch 6/8\n",
      "1563/1563 [==============================] - 7s 5ms/step - loss: 1.4858 - accuracy: 0.4675\n",
      "Epoch 7/8\n",
      "1563/1563 [==============================] - 7s 5ms/step - loss: 1.4602 - accuracy: 0.4777\n",
      "Epoch 8/8\n",
      "1563/1563 [==============================] - 8s 5ms/step - loss: 1.4412 - accuracy: 0.4858\n"
     ]
    },
    {
     "data": {
      "text/plain": [
       "<keras.callbacks.History at 0x268ec1e6eb0>"
      ]
     },
     "execution_count": 9,
     "metadata": {},
     "output_type": "execute_result"
    }
   ],
   "source": [
    "ann = tf.keras.models.Sequential([\n",
    "        tf.keras.layers.Flatten(input_shape=(32,32,3)),\n",
    "        tf.keras.layers.Dense(300, activation='relu'),\n",
    "        tf.keras.layers.Dense(100, activation='relu'),\n",
    "        tf.keras.layers.Dense(10, activation='sigmoid') # Better use softmax for real\n",
    "])\n",
    "\n",
    "ann.compile(optimizer='adam',\n",
    "           loss='sparse_categorical_crossentropy',\n",
    "           metrics=['accuracy'])\n",
    "\n",
    "ann.fit(X_train, y_train, epochs=8)"
   ]
  },
  {
   "cell_type": "code",
   "execution_count": 10,
   "id": "7523edf7",
   "metadata": {},
   "outputs": [],
   "source": [
    "from sklearn.metrics import confusion_matrix, classification_report\n",
    "\n",
    "def gen_report(model, X, y_true):\n",
    "    y_pred = model.predict(X)\n",
    "    y_pred_classes = [np.argmax(prob) for prob in y_pred]\n",
    "    print(\"Classification Report:\\n\", classification_report(y_true, y_pred_classes))"
   ]
  },
  {
   "cell_type": "code",
   "execution_count": 11,
   "id": "8eb07010",
   "metadata": {},
   "outputs": [
    {
     "name": "stdout",
     "output_type": "stream",
     "text": [
      "Classification Report:\n",
      "               precision    recall  f1-score   support\n",
      "\n",
      "           0       0.52      0.59      0.55      1000\n",
      "           1       0.65      0.53      0.58      1000\n",
      "           2       0.35      0.38      0.36      1000\n",
      "           3       0.33      0.34      0.33      1000\n",
      "           4       0.39      0.43      0.41      1000\n",
      "           5       0.43      0.30      0.35      1000\n",
      "           6       0.45      0.63      0.52      1000\n",
      "           7       0.60      0.46      0.52      1000\n",
      "           8       0.58      0.65      0.61      1000\n",
      "           9       0.57      0.51      0.54      1000\n",
      "\n",
      "    accuracy                           0.48     10000\n",
      "   macro avg       0.49      0.48      0.48     10000\n",
      "weighted avg       0.49      0.48      0.48     10000\n",
      "\n"
     ]
    }
   ],
   "source": [
    "gen_report(ann, X_test, y_test)"
   ]
  },
  {
   "cell_type": "code",
   "execution_count": 21,
   "id": "9134353a",
   "metadata": {
    "scrolled": true
   },
   "outputs": [
    {
     "name": "stdout",
     "output_type": "stream",
     "text": [
      "313/313 [==============================] - 2s 5ms/step - loss: 1.4677 - accuracy: 0.4796\n"
     ]
    }
   ],
   "source": [
    "loss, accuracy = ann.evaluate(X_test, y_test)\n",
    "# Definitely not good"
   ]
  },
  {
   "cell_type": "markdown",
   "id": "364e2c65",
   "metadata": {},
   "source": [
    "### Model with convolutional layers"
   ]
  },
  {
   "cell_type": "code",
   "execution_count": 13,
   "id": "07cc3c1f",
   "metadata": {},
   "outputs": [],
   "source": [
    "cnn = tf.keras.models.Sequential([\n",
    "        #cnn\n",
    "        tf.keras.layers.Conv2D(filters=32, kernel_size=(3,3), activation='relu', input_shape=(32,32,3)),\n",
    "        tf.keras.layers.MaxPooling2D((2,2)),\n",
    "        tf.keras.layers.Conv2D(filters=64, kernel_size=(3,3), activation='relu'),\n",
    "        tf.keras.layers.MaxPooling2D((2,2)),\n",
    "    \n",
    "        #ann\n",
    "        tf.keras.layers.Flatten(),\n",
    "        tf.keras.layers.Dense(64, activation='relu'),\n",
    "        tf.keras.layers.Dense(10, activation='softmax')\n",
    "])"
   ]
  },
  {
   "cell_type": "code",
   "execution_count": 14,
   "id": "64479dcb",
   "metadata": {
    "scrolled": true
   },
   "outputs": [
    {
     "name": "stdout",
     "output_type": "stream",
     "text": [
      "Epoch 1/10\n",
      "1563/1563 [==============================] - 20s 13ms/step - loss: 1.4495 - accuracy: 0.4808\n",
      "Epoch 2/10\n",
      "1563/1563 [==============================] - 20s 13ms/step - loss: 1.0891 - accuracy: 0.6201\n",
      "Epoch 3/10\n",
      "1563/1563 [==============================] - 20s 12ms/step - loss: 0.9552 - accuracy: 0.6686\n",
      "Epoch 4/10\n",
      "1563/1563 [==============================] - 20s 13ms/step - loss: 0.8679 - accuracy: 0.6976\n",
      "Epoch 5/10\n",
      "1563/1563 [==============================] - 20s 12ms/step - loss: 0.7972 - accuracy: 0.7231\n",
      "Epoch 6/10\n",
      "1563/1563 [==============================] - 19s 12ms/step - loss: 0.7410 - accuracy: 0.7427\n",
      "Epoch 7/10\n",
      "1563/1563 [==============================] - 20s 13ms/step - loss: 0.6888 - accuracy: 0.7606\n",
      "Epoch 8/10\n",
      "1563/1563 [==============================] - 21s 13ms/step - loss: 0.6411 - accuracy: 0.7774\n",
      "Epoch 9/10\n",
      "1563/1563 [==============================] - 20s 13ms/step - loss: 0.5957 - accuracy: 0.7923\n",
      "Epoch 10/10\n",
      "1563/1563 [==============================] - 21s 13ms/step - loss: 0.5544 - accuracy: 0.8056\n"
     ]
    },
    {
     "data": {
      "text/plain": [
       "<keras.callbacks.History at 0x268ec498520>"
      ]
     },
     "execution_count": 14,
     "metadata": {},
     "output_type": "execute_result"
    }
   ],
   "source": [
    "cnn.compile(optimizer='adam',\n",
    "           loss='sparse_categorical_crossentropy',\n",
    "           metrics=['accuracy'])\n",
    "cnn.fit(X_train, y_train, epochs=10)"
   ]
  },
  {
   "cell_type": "code",
   "execution_count": 20,
   "id": "3070e7a1",
   "metadata": {},
   "outputs": [
    {
     "name": "stdout",
     "output_type": "stream",
     "text": [
      "313/313 [==============================] - 3s 8ms/step - loss: 0.9598 - accuracy: 0.6956\n"
     ]
    }
   ],
   "source": [
    "loss, accuracy = cnn.evaluate(X_test, y_test)"
   ]
  },
  {
   "cell_type": "code",
   "execution_count": 15,
   "id": "c460cc9d",
   "metadata": {},
   "outputs": [
    {
     "name": "stdout",
     "output_type": "stream",
     "text": [
      "Classification Report:\n",
      "               precision    recall  f1-score   support\n",
      "\n",
      "           0       0.78      0.69      0.73      1000\n",
      "           1       0.90      0.70      0.79      1000\n",
      "           2       0.71      0.50      0.59      1000\n",
      "           3       0.46      0.61      0.53      1000\n",
      "           4       0.62      0.73      0.67      1000\n",
      "           5       0.60      0.64      0.62      1000\n",
      "           6       0.85      0.66      0.74      1000\n",
      "           7       0.81      0.71      0.76      1000\n",
      "           8       0.72      0.88      0.79      1000\n",
      "           9       0.71      0.83      0.77      1000\n",
      "\n",
      "    accuracy                           0.70     10000\n",
      "   macro avg       0.72      0.70      0.70     10000\n",
      "weighted avg       0.72      0.70      0.70     10000\n",
      "\n"
     ]
    }
   ],
   "source": [
    "gen_report(cnn, X_test, y_test)"
   ]
  },
  {
   "cell_type": "code",
   "execution_count": 18,
   "id": "6d538b74",
   "metadata": {
    "scrolled": true
   },
   "outputs": [
    {
     "data": {
      "image/png": "[encoded data removed]",
      "text/plain": [
       "<Figure size 1080x144 with 1 Axes>"
      ]
     },
     "metadata": {
      "needs_background": "light"
     },
     "output_type": "display_data"
    }
   ],
   "source": [
    "# Check our prediction\n",
    "y_test = y_test.reshape(-1,)\n",
    "\n",
    "y_pred = np.array([np.argmax(i) for i in cnn.predict(X_test)])\n",
    "y_pred = y_pred.reshape(-1,)\n",
    "\n",
    "load_sample(X_test, y_pred, 42, y_true=y_test)"
   ]
  }
 ],
 "metadata": {
  "kernelspec": {
   "display_name": "Python (base)",
   "language": "python",
   "name": "base"
  },
  "language_info": {
   "codemirror_mode": {
    "name": "ipython",
    "version": 3
   },
   "file_extension": ".py",
   "mimetype": "text/x-python",
   "name": "python",
   "nbconvert_exporter": "python",
   "pygments_lexer": "ipython3",
   "version": "3.9.7"
  }
 },
 "nbformat": 4,
 "nbformat_minor": 5
}
